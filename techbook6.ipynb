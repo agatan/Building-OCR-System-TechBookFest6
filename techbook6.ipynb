{
  "nbformat": 4,
  "nbformat_minor": 0,
  "metadata": {
    "colab": {
      "name": "techbook6.ipynb",
      "version": "0.3.2",
      "provenance": [],
      "collapsed_sections": [],
      "include_colab_link": true
    },
    "kernelspec": {
      "name": "python3",
      "display_name": "Python 3"
    },
    "accelerator": "TPU"
  },
  "cells": [
    {
      "cell_type": "markdown",
      "metadata": {
        "id": "view-in-github",
        "colab_type": "text"
      },
      "source": [
        "<a href=\"https://colab.research.google.com/github/agatan/Building-OCR-System-TechBookFest6/blob/master/techbook6.ipynb\" target=\"_parent\"><img src=\"https://colab.research.google.com/assets/colab-badge.svg\" alt=\"Open In Colab\"/></a>"
      ]
    },
    {
      "metadata": {
        "id": "26GhTYD6_OgS",
        "colab_type": "code",
        "outputId": "10e92920-928f-4b46-e61d-68231f461d5b",
        "colab": {
          "base_uri": "https://localhost:8080/",
          "height": 680
        }
      },
      "cell_type": "code",
      "source": [
        "%%sh\n",
        "apt -qq -y update\n",
        "apt -qq -y install fonts-ipafont\n",
        "fc-list :lang=ja"
      ],
      "execution_count": 0,
      "outputs": [
        {
          "output_type": "stream",
          "text": [
            "78 packages can be upgraded. Run 'apt list --upgradable' to see them.\n",
            "The following package was automatically installed and is no longer required:\n",
            "  libnvidia-common-410\n",
            "Use 'apt autoremove' to remove it.\n",
            "The following additional packages will be installed:\n",
            "  fonts-ipafont-gothic fonts-ipafont-mincho\n",
            "The following NEW packages will be installed:\n",
            "  fonts-ipafont fonts-ipafont-gothic fonts-ipafont-mincho\n",
            "0 upgraded, 3 newly installed, 0 to remove and 78 not upgraded.\n",
            "Need to get 8,260 kB of archives.\n",
            "After this operation, 28.7 MB of additional disk space will be used.\n",
            "Selecting previously unselected package fonts-ipafont-gothic.\r\n",
            "(Reading database ... \r(Reading database ... 5%\r(Reading database ... 10%\r(Reading database ... 15%\r(Reading database ... 20%\r(Reading database ... 25%\r(Reading database ... 30%\r(Reading database ... 35%\r(Reading database ... 40%\r(Reading database ... 45%\r(Reading database ... 50%\r(Reading database ... 55%\r(Reading database ... 60%\r(Reading database ... 65%\r(Reading database ... 70%\r(Reading database ... 75%\r(Reading database ... 80%\r(Reading database ... 85%\r(Reading database ... 90%\r(Reading database ... 95%\r(Reading database ... 100%\r(Reading database ... 131323 files and directories currently installed.)\r\n",
            "Preparing to unpack .../fonts-ipafont-gothic_00303-18ubuntu1_all.deb ...\r\n",
            "Unpacking fonts-ipafont-gothic (00303-18ubuntu1) ...\r\n",
            "Selecting previously unselected package fonts-ipafont-mincho.\r\n",
            "Preparing to unpack .../fonts-ipafont-mincho_00303-18ubuntu1_all.deb ...\r\n",
            "Unpacking fonts-ipafont-mincho (00303-18ubuntu1) ...\r\n",
            "Selecting previously unselected package fonts-ipafont.\r\n",
            "Preparing to unpack .../fonts-ipafont_00303-18ubuntu1_all.deb ...\r\n",
            "Unpacking fonts-ipafont (00303-18ubuntu1) ...\r\n",
            "Setting up fonts-ipafont-gothic (00303-18ubuntu1) ...\r\n",
            "update-alternatives: using /usr/share/fonts/opentype/ipafont-gothic/ipag.ttf to provide /usr/share/fonts/truetype/fonts-japanese-gothic.ttf (fonts-japanese-gothic.ttf) in auto mode\r\n",
            "Setting up fonts-ipafont-mincho (00303-18ubuntu1) ...\r\n",
            "update-alternatives: using /usr/share/fonts/opentype/ipafont-mincho/ipam.ttf to provide /usr/share/fonts/truetype/fonts-japanese-mincho.ttf (fonts-japanese-mincho.ttf) in auto mode\r\n",
            "Setting up fonts-ipafont (00303-18ubuntu1) ...\r\n",
            "Processing triggers for fontconfig (2.12.6-0ubuntu2) ...\r\n",
            "/usr/share/fonts/opentype/ipafont-mincho/ipam.ttf: IPAMincho,IPA明朝:style=Regular\n",
            "/usr/share/fonts/opentype/ipafont-gothic/ipagp.ttf: IPAPGothic,IPA Pゴシック:style=Regular\n",
            "/usr/share/fonts/opentype/ipafont-mincho/ipamp.ttf: IPAPMincho,IPA P明朝:style=Regular\n",
            "/usr/share/fonts/opentype/ipafont-gothic/ipag.ttf: IPAGothic,IPAゴシック:style=Regular\n",
            "/usr/share/fonts/truetype/fonts-japanese-mincho.ttf: IPAMincho,IPA明朝:style=Regular\n",
            "/usr/share/fonts/truetype/fonts-japanese-gothic.ttf: IPAGothic,IPAゴシック:style=Regular\n"
          ],
          "name": "stdout"
        },
        {
          "output_type": "stream",
          "text": [
            "\n",
            "WARNING: apt does not have a stable CLI interface. Use with caution in scripts.\n",
            "\n",
            "\n",
            "WARNING: apt does not have a stable CLI interface. Use with caution in scripts.\n",
            "\n"
          ],
          "name": "stderr"
        }
      ]
    },
    {
      "metadata": {
        "id": "XwP-21eK_sjT",
        "colab_type": "code",
        "colab": {}
      },
      "cell_type": "code",
      "source": [
        "from typing import List, NamedTuple, Tuple\n",
        "import subprocess\n",
        "import random\n",
        "\n",
        "import numpy as np\n",
        "from PIL import Image, ImageDraw, ImageFont\n",
        "import matplotlib.pyplot as plt"
      ],
      "execution_count": 0,
      "outputs": []
    },
    {
      "metadata": {
        "id": "wo0gmTFaAx47",
        "colab_type": "code",
        "outputId": "bca414c1-2e29-4439-a098-3b4de5be9a1c",
        "colab": {
          "base_uri": "https://localhost:8080/",
          "height": 119
        }
      },
      "cell_type": "code",
      "source": [
        "fontnames = subprocess.run(\"fc-list :lang=ja | sed  -r -e 's/^(.+): .*$/\\\\1/g'\", stdout=subprocess.PIPE, shell=True).stdout.decode(\"utf-8\").strip().split(\"\\n\")\n",
        "fontnames"
      ],
      "execution_count": 0,
      "outputs": [
        {
          "output_type": "execute_result",
          "data": {
            "text/plain": [
              "['/usr/share/fonts/opentype/ipafont-mincho/ipam.ttf',\n",
              " '/usr/share/fonts/opentype/ipafont-gothic/ipagp.ttf',\n",
              " '/usr/share/fonts/opentype/ipafont-mincho/ipamp.ttf',\n",
              " '/usr/share/fonts/opentype/ipafont-gothic/ipag.ttf',\n",
              " '/usr/share/fonts/truetype/fonts-japanese-mincho.ttf',\n",
              " '/usr/share/fonts/truetype/fonts-japanese-gothic.ttf']"
            ]
          },
          "metadata": {
            "tags": []
          },
          "execution_count": 3
        }
      ]
    },
    {
      "metadata": {
        "id": "f3mJHr0BIUKy",
        "colab_type": "code",
        "colab": {}
      },
      "cell_type": "code",
      "source": [
        "CHARACTERS = list(\"ぁあぃいぅうぇえぉおかがきぎくぐけげこごさざしじすずせぜそぞただちぢっつづてでとどなにぬねのはばぱひびぴふぶぷへべぺほぼぽまみむめもゃやゅゆょよらりるれろゎわゐゑをんァアィイゥウェエォオカガキギクグケゲコゴサザシジスズセゼソゾタダチヂッツヅテデトドナニヌネノハバパヒビピフブプヘベペホボポマミムメモャヤュユョヨラリルレロヮワヰヱヲンヴヵヶabcdefghijklmnopqrstuvwxyzABCDEFGHIJKLMNOPQRSTUVWXYZ0123456789!#$%&()*+-./:<=>?@[\\]^_{}~ー々\")\n",
        "\n",
        "def random_text(length: int) -> str:\n",
        "    return \"\".join(random.choices(CHARACTERS, k=length))"
      ],
      "execution_count": 0,
      "outputs": []
    },
    {
      "metadata": {
        "id": "UcZfHhC8F62M",
        "colab_type": "code",
        "colab": {}
      },
      "cell_type": "code",
      "source": [
        "class TextBox(NamedTuple):\n",
        "    text: str\n",
        "    xmin: int\n",
        "    ymin: int\n",
        "    xmax: int\n",
        "    ymax: int"
      ],
      "execution_count": 0,
      "outputs": []
    },
    {
      "metadata": {
        "id": "gDV8a99hBchK",
        "colab_type": "code",
        "outputId": "74eab3c9-5c0c-4b41-c91e-8d9673c11274",
        "colab": {
          "base_uri": "https://localhost:8080/",
          "height": 404
        }
      },
      "cell_type": "code",
      "source": [
        "def generate(width: int, height: int) -> Tuple[Image.Image, List[TextBox]]:\n",
        "    image = Image.new(\"RGB\", (width, height), color=(255, 255, 255))\n",
        "    draw = ImageDraw.Draw(image)\n",
        "    used_map = np.zeros((height, width), dtype=np.bool)\n",
        "    retry_count = 0\n",
        "    boxes: List[TextBox] = []\n",
        "\n",
        "    while retry_count < 10:\n",
        "        retry_count += 1\n",
        "        fontname = np.random.choice(fontnames)\n",
        "        fontsize = np.random.randint(3, 20)\n",
        "        font = ImageFont.truetype(fontname, fontsize)\n",
        "        text_length = np.random.randint(3, 20)\n",
        "        text = random_text(text_length)\n",
        "        textsize_x, textsize_y = draw.textsize(text, font=font)\n",
        "        if width <= textsize_x or height <= textsize_y:\n",
        "            continue\n",
        "        x = np.random.randint(0, width - textsize_x)\n",
        "        y = np.random.randint(0, height - textsize_y)\n",
        "        already_used_pixels_count = np.sum(used_map[y : y + textsize_y, x : x + textsize_x])\n",
        "        if already_used_pixels_count > 0.02 * textsize_x * textsize_y:\n",
        "            continue\n",
        "        retry_count = 0\n",
        "        used_map[y : y + textsize_y, x : x + textsize_x] = True\n",
        "        draw.text((x, y), text, fill=(0, 0, 0), font=font)\n",
        "        boxes.append(TextBox(text=text, xmin=x, ymin=y, xmax=x + textsize_x, ymax=y + textsize_y))\n",
        "        if np.sum(used_map) > np.random.random() * width * height:\n",
        "            break\n",
        "\n",
        "    return image, boxes\n",
        "\n",
        "image, boxes = generate(224, 224)\n",
        "print(boxes)\n",
        "plt.imshow(image)"
      ],
      "execution_count": 0,
      "outputs": [
        {
          "output_type": "stream",
          "text": [
            "[TextBox(text='やみにくプか-Kレf(sビ', xmin=29, ymin=183, xmax=194, ymax=202), TextBox(text='に{たムサへムぃ', xmin=126, ymin=69, xmax=149, ymax=73), TextBox(text='フろィザ', xmin=66, ymin=48, xmax=82, ymax=52), TextBox(text='ィ_おヌぞGどそ2iyへベゴチドの', xmin=17, ymin=211, xmax=150, ymax=220), TextBox(text='びパギ^ドへどz', xmin=115, ymin=122, xmax=171, ymax=130), TextBox(text='ヤよマつゃ1サCそぞ', xmin=107, ymin=77, xmax=161, ymax=83), TextBox(text='っさアyャヂ', xmin=78, ymin=142, xmax=128, ymax=151), TextBox(text='ハO1フ*みゐえァzどbムぽづ', xmin=68, ymin=21, xmax=208, ymax=31), TextBox(text='ひ-^cめヂィサるホj', xmin=95, ymin=90, xmax=142, ymax=96)]\n"
          ],
          "name": "stdout"
        },
        {
          "output_type": "execute_result",
          "data": {
            "text/plain": [
              "<matplotlib.image.AxesImage at 0x7f03232d0320>"
            ]
          },
          "metadata": {
            "tags": []
          },
          "execution_count": 18
        },
        {
          "output_type": "display_data",
          "data": {
            "image/png": "[encoded data removed]",
            "text/plain": [
              "<Figure size 576x396 with 1 Axes>"
            ]
          },
          "metadata": {
            "tags": []
          }
        }
      ]
    }
  ]
}